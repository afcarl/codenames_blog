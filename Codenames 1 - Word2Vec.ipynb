{
 "cells": [
  {
   "cell_type": "markdown",
   "metadata": {},
   "source": [
    "We'll use the python library gensim: https://radimrehurek.com/gensim/"
   ]
  },
  {
   "cell_type": "code",
   "execution_count": 69,
   "metadata": {
    "collapsed": true
   },
   "outputs": [],
   "source": [
    "import gensim"
   ]
  },
  {
   "cell_type": "markdown",
   "metadata": {},
   "source": [
    "Load a premade word2vec model built on Google News articles.\n",
    "\n",
    "Download from: https://drive.google.com/file/d/0B7XkCwpI5KDYNlNUTTlSS21pQmM"
   ]
  },
  {
   "cell_type": "code",
   "execution_count": 70,
   "metadata": {
    "collapsed": true
   },
   "outputs": [],
   "source": [
    "model = gensim.models.KeyedVectors.load_word2vec_format('GoogleNews-vectors-negative300.bin', binary=True, limit=500000)"
   ]
  },
  {
   "cell_type": "markdown",
   "metadata": {},
   "source": [
    "We limit the vocabulary to the 500,000 most common words.  Even at 500,000, it starts to get to nonsense words.  Here are the top 50 and bottom 50 words by frequency. And even for the real words that are infrequent, if a word is too obscure, it wouldn't make for a good clue."
   ]
  },
  {
   "cell_type": "code",
   "execution_count": 94,
   "metadata": {},
   "outputs": [
    {
     "name": "stdout",
     "output_type": "stream",
     "text": [
      "Most common: ['</s>', 'in', 'for', 'that', 'is', 'on', '##', 'The', 'with', 'said', 'was', 'the', 'at', 'not', 'as', 'it', 'be', 'from', 'by', 'are', 'I', 'have', 'he', 'will', 'has', '####', 'his', 'an', 'this', 'or', 'their', 'who', 'they', 'but', '$', 'had', 'year', 'were', 'we', 'more', '###', 'up', 'been', 'you', 'its', 'one', 'about', 'would', 'which', 'out']\n",
      "Least common: ['ideological_affinity', 'Rashtriya_Rifles_RR', 'Pedrotti', 'Frysinger', 'Ralph_Sacco', 'Ryan_Nece', 'Homs_Syria', 'BACK_TO_BACK', 'Nag_Hammadi', 'Dashan', 'Murape', 'Majolica', 'Sundvold', 'Jerryd', 'administered_subcutaneously', 'Pierre_Luc_Gagnon', 'Fedrizzi', 'CD_ROMS', 'Raynham_Mass.', 'NN_Vohra', 'Barraba', 'Delta_Upsilon', 'Roilo_Golez', 'Cindy_Scroggins', 'Iter', 'Ford_Expeditions', 'La_Toussuire', 'Hooksett_NH', 'ITCTransmission', 'wakeskate', 'Fervor', 'SAFT', 'steam_boiler', 'Moskwa', 'Inet_electronic', '2A_1A', 'pituitary_tumor', 'Westernbank', '3DV', 'Supremely', 'Mellars', 'JUDGMENT', 'thinnest_smartphone', 'BY_ROD_KLOECKNER', 'gamepads', 'Reventon', 'LongJump', 'Whitby_Dunlops', 'Chasing_Value', 'Pollution_Control_Agency']\n"
     ]
    }
   ],
   "source": [
    "print(\"Most common:\",model.index2word[:50])\n",
    "print(\"Least common:\",model.index2word[-50:])"
   ]
  },
  {
   "cell_type": "markdown",
   "metadata": {},
   "source": [
    "Here's an example Codenames board.  `blue` is one team's words, `red` the other and `assassin` is the assassin word."
   ]
  },
  {
   "cell_type": "code",
   "execution_count": 95,
   "metadata": {
    "collapsed": true
   },
   "outputs": [],
   "source": [
    "board = {\n",
    "    'blue': ['ambulance', 'hospital', 'spell', 'lock', 'charge', 'tail', 'link', 'cook', 'web'],\n",
    "    'red': ['cat', 'button', 'pipe', 'pants', 'mount', 'sleep', 'stick', 'file', 'worm'],\n",
    "    'assassin': 'doctor'\n",
    "}"
   ]
  },
  {
   "cell_type": "markdown",
   "metadata": {},
   "source": [
    "We can use gensim to find the 10 words most related to \"ambulance\" in this word2vec model."
   ]
  },
  {
   "cell_type": "code",
   "execution_count": 55,
   "metadata": {},
   "outputs": [
    {
     "data": {
      "text/plain": [
       "[('paramedics', 0.7590752243995667),\n",
       " ('ambulances', 0.7493595480918884),\n",
       " ('Ambulance', 0.7236292362213135),\n",
       " ('paramedic', 0.662133514881134),\n",
       " ('Ambulance_paramedics', 0.6315338611602783),\n",
       " ('Ambulances', 0.6211477518081665),\n",
       " ('LifeFlight_helicopter', 0.6147335171699524),\n",
       " ('hospital', 0.6099206209182739),\n",
       " ('Paramedics', 0.6081751585006714),\n",
       " ('Ambulance_Service', 0.6080097556114197)]"
      ]
     },
     "execution_count": 55,
     "metadata": {},
     "output_type": "execute_result"
    }
   ],
   "source": [
    "model.similar_by_word('ambulance', topn=10)"
   ]
  },
  {
   "cell_type": "markdown",
   "metadata": {},
   "source": [
    "Each line is the word, followed by how similar the word is to \"ambulance.\" Some of these words word be useful, \"parametics\" for instance, but many are just other forms of the word \"ambulance.\"\n",
    "\n",
    "gensim allows us to directly find words the most similar to a whole group of words at one time."
   ]
  },
  {
   "cell_type": "code",
   "execution_count": 96,
   "metadata": {},
   "outputs": [
    {
     "data": {
      "text/plain": [
       "[('%_#F########_3v.jsn', 0.5153687000274658),\n",
       " ('By_TBT_staff', 0.4811619818210602),\n",
       " ('By_HARVEY_SIMPSON', 0.47336331009864807),\n",
       " ('try_resubmitting', 0.46592575311660767),\n",
       " ('By_Salvatore_Landolina', 0.4655460715293884),\n",
       " ('By_Jason_Kaneshiro', 0.4612027108669281),\n",
       " ('%_#F########_2v.jsn', 0.45537447929382324),\n",
       " ('%_#F########_1v.jsn', 0.4508393406867981),\n",
       " ('BY_VINCENT_MAO', 0.4498888850212097),\n",
       " ('Visit_BBC_Webwise', 0.4431522786617279)]"
      ]
     },
     "execution_count": 96,
     "metadata": {},
     "output_type": "execute_result"
    }
   ],
   "source": [
    "model.most_similar(positive=board['blue'])"
   ]
  },
  {
   "cell_type": "markdown",
   "metadata": {},
   "source": [
    "As we can see, it produces a lot of nonsense words. We can use `restrict_vocab` to limit results to only the top n most common words in the corpus."
   ]
  },
  {
   "cell_type": "code",
   "execution_count": 97,
   "metadata": {},
   "outputs": [
    {
     "data": {
      "text/plain": [
       "[('For_Restrictions', 0.43488097190856934),\n",
       " ('bed', 0.39588358998298645),\n",
       " ('links', 0.38411831855773926),\n",
       " ('hook', 0.38367366790771484),\n",
       " ('paramedics', 0.38072746992111206),\n",
       " ('emergency', 0.37950167059898376),\n",
       " ('jail', 0.3759669065475464),\n",
       " ('log', 0.37062549591064453),\n",
       " ('intensive_care', 0.3661930561065674),\n",
       " ('call', 0.36543411016464233),\n",
       " ('webpage', 0.3649423122406006),\n",
       " ('tow_truck', 0.3592333197593689),\n",
       " ('click', 0.35906946659088135),\n",
       " ('cooked', 0.3552851676940918),\n",
       " ('care', 0.3537469208240509),\n",
       " ('handcuff', 0.35027384757995605),\n",
       " ('then', 0.34921103715896606),\n",
       " ('stay', 0.3478427529335022),\n",
       " ('turn', 0.34607696533203125),\n",
       " ('bookmark', 0.3458564579486847)]"
      ]
     },
     "execution_count": 97,
     "metadata": {},
     "output_type": "execute_result"
    }
   ],
   "source": [
    "model.most_similar(\n",
    "    positive=board['blue'],\n",
    "    restrict_vocab=50000,\n",
    "    topn=20\n",
    ")"
   ]
  },
  {
   "cell_type": "markdown",
   "metadata": {},
   "source": [
    "This looks much better, and produces some decent clues.  \n",
    "* \"bed\", \"paramedics\", \"emergency\" all relate to \"ambulance\" and \"hospital.\" \n",
    "* \"jail\" could relate to \"lock\" and \"charge.\" \n",
    "* \"click\" to \"web\" and \"link.\"\n",
    "\n",
    "But “bed” would also relate to the other team’s word “sleep”; and “click” with “button.” It would be bad to give clues which could point to the opponent’s cards. \n",
    "\n",
    "gensim allows for negative examples to be included as well to help avoid that."
   ]
  },
  {
   "cell_type": "code",
   "execution_count": 98,
   "metadata": {},
   "outputs": [
    {
     "data": {
      "text/plain": [
       "[('Hospital', 0.27265793085098267),\n",
       " ('ambulances', 0.2605472207069397),\n",
       " ('hospitals', 0.24624229967594147),\n",
       " ('outpatient', 0.24339225888252258),\n",
       " ('inpatient', 0.2404019981622696),\n",
       " ('paramedics', 0.23482689261436462),\n",
       " ('escort', 0.23161748051643372),\n",
       " ('Partnerships', 0.23104971647262573),\n",
       " ('Medical_Center', 0.2306305170059204),\n",
       " ('telemedicine', 0.22638411819934845)]"
      ]
     },
     "execution_count": 98,
     "metadata": {},
     "output_type": "execute_result"
    }
   ],
   "source": [
    "model.most_similar(\n",
    "    positive=board['blue'],\n",
    "    negative=board['red'],\n",
    "    restrict_vocab=50000\n",
    ")"
   ]
  },
  {
   "cell_type": "markdown",
   "metadata": {},
   "source": [
    "I really like the clue \"telemedicine.\" It's non-obvious, but relates to four words: \"web,\" \"link,\" \"ambulance\" and \"hospital.\" This shows the potential for this method to produce novel clues.\n",
    "\n",
    "Let's say that the clue were \"telemedicine\" and the four words were removed from the board, then the next team got a turn.  What might their clues be?"
   ]
  },
  {
   "cell_type": "code",
   "execution_count": 99,
   "metadata": {},
   "outputs": [
    {
     "data": {
      "text/plain": [
       "[('pillow', 0.43686941266059875),\n",
       " ('bra', 0.3842337727546692),\n",
       " ('couch', 0.38342970609664917),\n",
       " ('tub', 0.37922778725624084),\n",
       " ('closet', 0.36959999799728394),\n",
       " ('sofa', 0.36713898181915283),\n",
       " ('bathroom', 0.366258829832077),\n",
       " ('bed', 0.36348700523376465),\n",
       " ('crotch', 0.36245280504226685),\n",
       " ('spoon', 0.36179912090301514)]"
      ]
     },
     "execution_count": 99,
     "metadata": {},
     "output_type": "execute_result"
    }
   ],
   "source": [
    "board = {\n",
    "    'blue': ['spell', 'lock', 'charge', 'tail', 'link'],\n",
    "    'red': ['cat', 'button', 'pipe', 'pants', 'mount', 'sleep', 'stick', 'file', 'worm'],\n",
    "    'assassin': 'doctor'\n",
    "}\n",
    "\n",
    "model.most_similar(\n",
    "    positive=board['red'],\n",
    "    negative=board['blue'],\n",
    "    restrict_vocab=50000\n",
    ")"
   ]
  },
  {
   "cell_type": "markdown",
   "metadata": {},
   "source": [
    "This appears much less successful.  The top words mostly just seem to relate to a singe word:\n",
    "* pillow -> sleep\n",
    "* bra -> pants\n",
    "* couch -> sleep? cat?"
   ]
  },
  {
   "cell_type": "code",
   "execution_count": null,
   "metadata": {
    "collapsed": true
   },
   "outputs": [],
   "source": []
  }
 ],
 "metadata": {
  "kernelspec": {
   "display_name": "Python 3",
   "language": "python",
   "name": "python3"
  },
  "language_info": {
   "codemirror_mode": {
    "name": "ipython",
    "version": 3
   },
   "file_extension": ".py",
   "mimetype": "text/x-python",
   "name": "python",
   "nbconvert_exporter": "python",
   "pygments_lexer": "ipython3",
   "version": "3.5.4"
  }
 },
 "nbformat": 4,
 "nbformat_minor": 2
}

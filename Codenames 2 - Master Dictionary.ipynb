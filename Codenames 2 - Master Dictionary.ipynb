{
 "cells": [
  {
   "cell_type": "code",
   "execution_count": 7,
   "metadata": {
    "collapsed": true
   },
   "outputs": [],
   "source": [
    "import pandas as pd"
   ]
  },
  {
   "cell_type": "code",
   "execution_count": 8,
   "metadata": {},
   "outputs": [
    {
     "data": {
      "text/html": [
       "<div>\n",
       "<style>\n",
       "    .dataframe thead tr:only-child th {\n",
       "        text-align: right;\n",
       "    }\n",
       "\n",
       "    .dataframe thead th {\n",
       "        text-align: left;\n",
       "    }\n",
       "\n",
       "    .dataframe tbody tr th {\n",
       "        vertical-align: top;\n",
       "    }\n",
       "</style>\n",
       "<table border=\"1\" class=\"dataframe\">\n",
       "  <thead>\n",
       "    <tr style=\"text-align: right;\">\n",
       "      <th></th>\n",
       "      <th>uri</th>\n",
       "      <th>relation</th>\n",
       "      <th>from</th>\n",
       "      <th>to</th>\n",
       "      <th>json</th>\n",
       "    </tr>\n",
       "  </thead>\n",
       "  <tbody>\n",
       "    <tr>\n",
       "      <th>0</th>\n",
       "      <td>/a/[/r/Antonym/,/c/ab/агыруа/n/,/c/ab/аҧсуа/]</td>\n",
       "      <td>/r/Antonym</td>\n",
       "      <td>/c/ab/агыруа/n</td>\n",
       "      <td>/c/ab/аҧсуа</td>\n",
       "      <td>{\"dataset\": \"/d/wiktionary/en\", \"license\": \"cc...</td>\n",
       "    </tr>\n",
       "    <tr>\n",
       "      <th>1</th>\n",
       "      <td>/a/[/r/Antonym/,/c/adx/thəχ_kwo/a/,/c/adx/ʂap_...</td>\n",
       "      <td>/r/Antonym</td>\n",
       "      <td>/c/adx/thəχ_kwo/a</td>\n",
       "      <td>/c/adx/ʂap_wə</td>\n",
       "      <td>{\"dataset\": \"/d/wiktionary/fr\", \"license\": \"cc...</td>\n",
       "    </tr>\n",
       "    <tr>\n",
       "      <th>2</th>\n",
       "      <td>/a/[/r/Antonym/,/c/adx/tok_po/a/,/c/adx/ʂa_wə/]</td>\n",
       "      <td>/r/Antonym</td>\n",
       "      <td>/c/adx/tok_po/a</td>\n",
       "      <td>/c/adx/ʂa_wə</td>\n",
       "      <td>{\"dataset\": \"/d/wiktionary/fr\", \"license\": \"cc...</td>\n",
       "    </tr>\n",
       "    <tr>\n",
       "      <th>3</th>\n",
       "      <td>/a/[/r/Antonym/,/c/adx/ʂa_wə/a/,/c/adx/tok_po/]</td>\n",
       "      <td>/r/Antonym</td>\n",
       "      <td>/c/adx/ʂa_wə/a</td>\n",
       "      <td>/c/adx/tok_po</td>\n",
       "      <td>{\"dataset\": \"/d/wiktionary/fr\", \"license\": \"cc...</td>\n",
       "    </tr>\n",
       "    <tr>\n",
       "      <th>4</th>\n",
       "      <td>/a/[/r/Antonym/,/c/adx/ʂap_wə/a/,/c/adx/thəχ_k...</td>\n",
       "      <td>/r/Antonym</td>\n",
       "      <td>/c/adx/ʂap_wə/a</td>\n",
       "      <td>/c/adx/thəχ_kwo</td>\n",
       "      <td>{\"dataset\": \"/d/wiktionary/fr\", \"license\": \"cc...</td>\n",
       "    </tr>\n",
       "  </tbody>\n",
       "</table>\n",
       "</div>"
      ],
      "text/plain": [
       "                                                 uri    relation  \\\n",
       "0      /a/[/r/Antonym/,/c/ab/агыруа/n/,/c/ab/аҧсуа/]  /r/Antonym   \n",
       "1  /a/[/r/Antonym/,/c/adx/thəχ_kwo/a/,/c/adx/ʂap_...  /r/Antonym   \n",
       "2    /a/[/r/Antonym/,/c/adx/tok_po/a/,/c/adx/ʂa_wə/]  /r/Antonym   \n",
       "3    /a/[/r/Antonym/,/c/adx/ʂa_wə/a/,/c/adx/tok_po/]  /r/Antonym   \n",
       "4  /a/[/r/Antonym/,/c/adx/ʂap_wə/a/,/c/adx/thəχ_k...  /r/Antonym   \n",
       "\n",
       "                from               to  \\\n",
       "0     /c/ab/агыруа/n      /c/ab/аҧсуа   \n",
       "1  /c/adx/thəχ_kwo/a    /c/adx/ʂap_wə   \n",
       "2    /c/adx/tok_po/a     /c/adx/ʂa_wə   \n",
       "3     /c/adx/ʂa_wə/a    /c/adx/tok_po   \n",
       "4    /c/adx/ʂap_wə/a  /c/adx/thəχ_kwo   \n",
       "\n",
       "                                                json  \n",
       "0  {\"dataset\": \"/d/wiktionary/en\", \"license\": \"cc...  \n",
       "1  {\"dataset\": \"/d/wiktionary/fr\", \"license\": \"cc...  \n",
       "2  {\"dataset\": \"/d/wiktionary/fr\", \"license\": \"cc...  \n",
       "3  {\"dataset\": \"/d/wiktionary/fr\", \"license\": \"cc...  \n",
       "4  {\"dataset\": \"/d/wiktionary/fr\", \"license\": \"cc...  "
      ]
     },
     "execution_count": 8,
     "metadata": {},
     "output_type": "execute_result"
    }
   ],
   "source": [
    "df = pd.read_csv('dictionary/conceptnet-assertions-5.5.5.csv.gz', sep='\\t', header=None, names=['uri', 'relation', 'from', 'to', 'json'])\n",
    "\n",
    "df.head()"
   ]
  },
  {
   "cell_type": "code",
   "execution_count": 9,
   "metadata": {},
   "outputs": [
    {
     "name": "stderr",
     "output_type": "stream",
     "text": [
      "c:\\Users\\Jeremy\\Anaconda3\\lib\\site-packages\\ipykernel_launcher.py:1: FutureWarning: currently extract(expand=None) means expand=False (return Index/Series/DataFrame) but in a future version of pandas this will be changed to expand=True (return DataFrame)\n",
      "  \"\"\"Entry point for launching an IPython kernel.\n"
     ]
    },
    {
     "data": {
      "text/html": [
       "<div>\n",
       "<style>\n",
       "    .dataframe thead tr:only-child th {\n",
       "        text-align: right;\n",
       "    }\n",
       "\n",
       "    .dataframe thead th {\n",
       "        text-align: left;\n",
       "    }\n",
       "\n",
       "    .dataframe tbody tr th {\n",
       "        vertical-align: top;\n",
       "    }\n",
       "</style>\n",
       "<table border=\"1\" class=\"dataframe\">\n",
       "  <thead>\n",
       "    <tr style=\"text-align: right;\">\n",
       "      <th></th>\n",
       "      <th>uri</th>\n",
       "      <th>relation</th>\n",
       "      <th>from</th>\n",
       "      <th>to</th>\n",
       "      <th>json</th>\n",
       "    </tr>\n",
       "  </thead>\n",
       "  <tbody>\n",
       "    <tr>\n",
       "      <th>7469</th>\n",
       "      <td>/a/[/r/Antonym/,/c/en/0/n/,/c/en/1/]</td>\n",
       "      <td>/r/Antonym</td>\n",
       "      <td>/c/en/0/n</td>\n",
       "      <td>/c/en/1</td>\n",
       "      <td>{\"dataset\": \"/d/wiktionary/fr\", \"license\": \"cc...</td>\n",
       "    </tr>\n",
       "    <tr>\n",
       "      <th>7470</th>\n",
       "      <td>/a/[/r/Antonym/,/c/en/12_hour_clock/n/,/c/en/2...</td>\n",
       "      <td>/r/Antonym</td>\n",
       "      <td>/c/en/12_hour_clock/n</td>\n",
       "      <td>/c/en/24_hour_clock</td>\n",
       "      <td>{\"dataset\": \"/d/wiktionary/en\", \"license\": \"cc...</td>\n",
       "    </tr>\n",
       "    <tr>\n",
       "      <th>7471</th>\n",
       "      <td>/a/[/r/Antonym/,/c/en/24_hour_clock/n/,/c/en/1...</td>\n",
       "      <td>/r/Antonym</td>\n",
       "      <td>/c/en/24_hour_clock/n</td>\n",
       "      <td>/c/en/12_hour_clock</td>\n",
       "      <td>{\"dataset\": \"/d/wiktionary/en\", \"license\": \"cc...</td>\n",
       "    </tr>\n",
       "    <tr>\n",
       "      <th>7472</th>\n",
       "      <td>/a/[/r/Antonym/,/c/en/5/n/,/c/en/3/]</td>\n",
       "      <td>/r/Antonym</td>\n",
       "      <td>/c/en/5/n</td>\n",
       "      <td>/c/en/3</td>\n",
       "      <td>{\"dataset\": \"/d/wiktionary/en\", \"license\": \"cc...</td>\n",
       "    </tr>\n",
       "    <tr>\n",
       "      <th>7473</th>\n",
       "      <td>/a/[/r/Antonym/,/c/en/a.c/n/,/c/en/d.c/]</td>\n",
       "      <td>/r/Antonym</td>\n",
       "      <td>/c/en/a.c/n</td>\n",
       "      <td>/c/en/d.c</td>\n",
       "      <td>{\"dataset\": \"/d/wiktionary/fr\", \"license\": \"cc...</td>\n",
       "    </tr>\n",
       "  </tbody>\n",
       "</table>\n",
       "</div>"
      ],
      "text/plain": [
       "                                                    uri    relation  \\\n",
       "7469               /a/[/r/Antonym/,/c/en/0/n/,/c/en/1/]  /r/Antonym   \n",
       "7470  /a/[/r/Antonym/,/c/en/12_hour_clock/n/,/c/en/2...  /r/Antonym   \n",
       "7471  /a/[/r/Antonym/,/c/en/24_hour_clock/n/,/c/en/1...  /r/Antonym   \n",
       "7472               /a/[/r/Antonym/,/c/en/5/n/,/c/en/3/]  /r/Antonym   \n",
       "7473           /a/[/r/Antonym/,/c/en/a.c/n/,/c/en/d.c/]  /r/Antonym   \n",
       "\n",
       "                       from                   to  \\\n",
       "7469              /c/en/0/n              /c/en/1   \n",
       "7470  /c/en/12_hour_clock/n  /c/en/24_hour_clock   \n",
       "7471  /c/en/24_hour_clock/n  /c/en/12_hour_clock   \n",
       "7472              /c/en/5/n              /c/en/3   \n",
       "7473            /c/en/a.c/n            /c/en/d.c   \n",
       "\n",
       "                                                   json  \n",
       "7469  {\"dataset\": \"/d/wiktionary/fr\", \"license\": \"cc...  \n",
       "7470  {\"dataset\": \"/d/wiktionary/en\", \"license\": \"cc...  \n",
       "7471  {\"dataset\": \"/d/wiktionary/en\", \"license\": \"cc...  \n",
       "7472  {\"dataset\": \"/d/wiktionary/en\", \"license\": \"cc...  \n",
       "7473  {\"dataset\": \"/d/wiktionary/fr\", \"license\": \"cc...  "
      ]
     },
     "execution_count": 9,
     "metadata": {},
     "output_type": "execute_result"
    }
   ],
   "source": [
    "df = df[(df['from'].str.extract(r'/./([^/]*)/.*') == 'en') & (df['to'].str.extract(r'/./([^/]*)/.*') == 'en')]\n",
    "df.head()"
   ]
  },
  {
   "cell_type": "code",
   "execution_count": 10,
   "metadata": {},
   "outputs": [
    {
     "name": "stderr",
     "output_type": "stream",
     "text": [
      "c:\\Users\\Jeremy\\Anaconda3\\lib\\site-packages\\ipykernel_launcher.py:2: FutureWarning: currently extract(expand=None) means expand=False (return Index/Series/DataFrame) but in a future version of pandas this will be changed to expand=True (return DataFrame)\n",
      "  \n",
      "c:\\Users\\Jeremy\\Anaconda3\\lib\\site-packages\\ipykernel_launcher.py:3: FutureWarning: currently extract(expand=None) means expand=False (return Index/Series/DataFrame) but in a future version of pandas this will be changed to expand=True (return DataFrame)\n",
      "  This is separate from the ipykernel package so we can avoid doing imports until\n"
     ]
    },
    {
     "data": {
      "text/html": [
       "<div>\n",
       "<style>\n",
       "    .dataframe thead tr:only-child th {\n",
       "        text-align: right;\n",
       "    }\n",
       "\n",
       "    .dataframe thead th {\n",
       "        text-align: left;\n",
       "    }\n",
       "\n",
       "    .dataframe tbody tr th {\n",
       "        vertical-align: top;\n",
       "    }\n",
       "</style>\n",
       "<table border=\"1\" class=\"dataframe\">\n",
       "  <thead>\n",
       "    <tr style=\"text-align: right;\">\n",
       "      <th></th>\n",
       "      <th>relation</th>\n",
       "      <th>from</th>\n",
       "      <th>to</th>\n",
       "    </tr>\n",
       "  </thead>\n",
       "  <tbody>\n",
       "    <tr>\n",
       "      <th>7469</th>\n",
       "      <td>/r/Antonym</td>\n",
       "      <td>0</td>\n",
       "      <td>1</td>\n",
       "    </tr>\n",
       "    <tr>\n",
       "      <th>7470</th>\n",
       "      <td>/r/Antonym</td>\n",
       "      <td>12_hour_clock</td>\n",
       "      <td>24_hour_clock</td>\n",
       "    </tr>\n",
       "    <tr>\n",
       "      <th>7471</th>\n",
       "      <td>/r/Antonym</td>\n",
       "      <td>24_hour_clock</td>\n",
       "      <td>12_hour_clock</td>\n",
       "    </tr>\n",
       "    <tr>\n",
       "      <th>7472</th>\n",
       "      <td>/r/Antonym</td>\n",
       "      <td>5</td>\n",
       "      <td>3</td>\n",
       "    </tr>\n",
       "    <tr>\n",
       "      <th>7473</th>\n",
       "      <td>/r/Antonym</td>\n",
       "      <td>a.c</td>\n",
       "      <td>d.c</td>\n",
       "    </tr>\n",
       "  </tbody>\n",
       "</table>\n",
       "</div>"
      ],
      "text/plain": [
       "        relation           from             to\n",
       "7469  /r/Antonym              0              1\n",
       "7470  /r/Antonym  12_hour_clock  24_hour_clock\n",
       "7471  /r/Antonym  24_hour_clock  12_hour_clock\n",
       "7472  /r/Antonym              5              3\n",
       "7473  /r/Antonym            a.c            d.c"
      ]
     },
     "execution_count": 10,
     "metadata": {},
     "output_type": "execute_result"
    }
   ],
   "source": [
    "df = df[['relation', 'from', 'to']]\n",
    "df['from'] = df['from'].str.extract(r'/./[^/]*/([^/]*).*')\n",
    "df['to'] = df['to'].str.extract(r'/./[^/]*/([^/]*).*')\n",
    "df.head()"
   ]
  },
  {
   "cell_type": "code",
   "execution_count": 11,
   "metadata": {},
   "outputs": [
    {
     "data": {
      "text/plain": [
       "7469                0\n",
       "7470    12_hour_clock\n",
       "7471    24_hour_clock\n",
       "7472                5\n",
       "7473              a.c\n",
       "dtype: object"
      ]
     },
     "execution_count": 11,
     "metadata": {},
     "output_type": "execute_result"
    }
   ],
   "source": [
    "words = pd.concat([df['from'], df['to']])\n",
    "words.head()"
   ]
  },
  {
   "cell_type": "code",
   "execution_count": 16,
   "metadata": {},
   "outputs": [
    {
     "data": {
      "text/plain": [
       "7469            0\n",
       "7472            5\n",
       "7473          a.c\n",
       "7474          a.m\n",
       "7479    abactinal\n",
       "dtype: object"
      ]
     },
     "execution_count": 16,
     "metadata": {},
     "output_type": "execute_result"
    }
   ],
   "source": [
    "words = words[~words.str.contains('_')].drop_duplicates()\n",
    "words.head()"
   ]
  },
  {
   "cell_type": "code",
   "execution_count": 20,
   "metadata": {
    "scrolled": true
   },
   "outputs": [
    {
     "data": {
      "text/plain": [
       "7881          afterwit\n",
       "7882             again\n",
       "7887           against\n",
       "7896               age\n",
       "7909           agelast\n",
       "7911         agelastic\n",
       "7912             agent\n",
       "7913      aggregatable\n",
       "7915         aggregate\n",
       "7916       aggregation\n",
       "7917        aggression\n",
       "7918        aggressive\n",
       "7919          agitator\n",
       "7920            agnate\n",
       "7921           agnosis\n",
       "7922               ago\n",
       "7923             agony\n",
       "7927      agrammatical\n",
       "7928             agree\n",
       "7933         agreement\n",
       "7934         agromania\n",
       "7935             ahead\n",
       "7939       ahermatypic\n",
       "7941       aibohphobia\n",
       "7942       ailihphilia\n",
       "7943       ailurophile\n",
       "7944      ailurophilia\n",
       "7947       ailurophobe\n",
       "7948            aimful\n",
       "7949          aimfully\n",
       "             ...      \n",
       "8039          alphabet\n",
       "8040           already\n",
       "8041         alterable\n",
       "8044          although\n",
       "8045        altophobia\n",
       "8046          altrices\n",
       "8047          altruism\n",
       "8050          altruist\n",
       "8051        altruistic\n",
       "8054    altruistically\n",
       "8057            always\n",
       "8062                am\n",
       "8063        amalgamate\n",
       "8064           amateur\n",
       "8065             amber\n",
       "8067      ambidextrous\n",
       "8069         ambiguate\n",
       "8070       ambiguation\n",
       "8071         ambiguity\n",
       "8072         ambiguous\n",
       "8074        ambilevous\n",
       "8075    ambisinistrous\n",
       "8076        ameliorate\n",
       "8078    amelioratingly\n",
       "8079      amelioration\n",
       "8080          amenable\n",
       "8084       americanism\n",
       "8086             amity\n",
       "8089           ammiyya\n",
       "8090             among\n",
       "Length: 101, dtype: object"
      ]
     },
     "execution_count": 20,
     "metadata": {},
     "output_type": "execute_result"
    }
   ],
   "source": [
    "words[199:300]"
   ]
  },
  {
   "cell_type": "code",
   "execution_count": 21,
   "metadata": {
    "collapsed": true
   },
   "outputs": [],
   "source": [
    "dic = dict([(w, 1) for w in words])"
   ]
  },
  {
   "cell_type": "code",
   "execution_count": 25,
   "metadata": {},
   "outputs": [
    {
     "data": {
      "text/plain": [
       "537911"
      ]
     },
     "execution_count": 25,
     "metadata": {},
     "output_type": "execute_result"
    }
   ],
   "source": [
    "len(dic)"
   ]
  },
  {
   "cell_type": "code",
   "execution_count": 24,
   "metadata": {},
   "outputs": [],
   "source": [
    "import json\n",
    "json.dump(dic, open('dictionary/words.json', 'w'))"
   ]
  },
  {
   "cell_type": "code",
   "execution_count": null,
   "metadata": {
    "collapsed": true
   },
   "outputs": [],
   "source": []
  }
 ],
 "metadata": {
  "kernelspec": {
   "display_name": "Python 3",
   "language": "python",
   "name": "python3"
  },
  "language_info": {
   "codemirror_mode": {
    "name": "ipython",
    "version": 3
   },
   "file_extension": ".py",
   "mimetype": "text/x-python",
   "name": "python",
   "nbconvert_exporter": "python",
   "pygments_lexer": "ipython3",
   "version": "3.5.4"
  }
 },
 "nbformat": 4,
 "nbformat_minor": 2
}
